{
 "cells": [
  {
   "cell_type": "code",
   "execution_count": 1,
   "metadata": {},
   "outputs": [],
   "source": [
    "import matplotlib.pyplot as plt\n",
    "import pandas as pd\n",
    "from pathlib import Path\n",
    "import seaborn as sns"
   ]
  },
  {
   "cell_type": "code",
   "execution_count": 21,
   "metadata": {},
   "outputs": [],
   "source": [
    "p = Path('C:/Users/danie/documents/py-data-analysis/national-parks')\n",
    "data = p / 'zion_np_monthly_visitors.csv'\n",
    "df = pd.read_csv(data)"
   ]
  },
  {
   "cell_type": "code",
   "execution_count": 23,
   "metadata": {},
   "outputs": [
    {
     "data": {
      "text/html": [
       "<div>\n",
       "<style scoped>\n",
       "    .dataframe tbody tr th:only-of-type {\n",
       "        vertical-align: middle;\n",
       "    }\n",
       "\n",
       "    .dataframe tbody tr th {\n",
       "        vertical-align: top;\n",
       "    }\n",
       "\n",
       "    .dataframe thead th {\n",
       "        text-align: right;\n",
       "    }\n",
       "</style>\n",
       "<table border=\"1\" class=\"dataframe\">\n",
       "  <thead>\n",
       "    <tr style=\"text-align: right;\">\n",
       "      <th></th>\n",
       "      <th>month</th>\n",
       "      <th>vehicle_traffic</th>\n",
       "      <th>recreation_visits</th>\n",
       "      <th>backcountry_campers</th>\n",
       "      <th>tent_campers</th>\n",
       "    </tr>\n",
       "  </thead>\n",
       "  <tbody>\n",
       "    <tr>\n",
       "      <th>0</th>\n",
       "      <td>jan</td>\n",
       "      <td>28421</td>\n",
       "      <td>88561</td>\n",
       "      <td>85</td>\n",
       "      <td>1120</td>\n",
       "    </tr>\n",
       "    <tr>\n",
       "      <th>1</th>\n",
       "      <td>feb</td>\n",
       "      <td>34654</td>\n",
       "      <td>110569</td>\n",
       "      <td>148</td>\n",
       "      <td>1794</td>\n",
       "    </tr>\n",
       "    <tr>\n",
       "      <th>2</th>\n",
       "      <td>mar</td>\n",
       "      <td>78096</td>\n",
       "      <td>345476</td>\n",
       "      <td>2871</td>\n",
       "      <td>13840</td>\n",
       "    </tr>\n",
       "    <tr>\n",
       "      <th>3</th>\n",
       "      <td>apr</td>\n",
       "      <td>91660</td>\n",
       "      <td>515652</td>\n",
       "      <td>3008</td>\n",
       "      <td>14359</td>\n",
       "    </tr>\n",
       "    <tr>\n",
       "      <th>4</th>\n",
       "      <td>may</td>\n",
       "      <td>99259</td>\n",
       "      <td>509017</td>\n",
       "      <td>4234</td>\n",
       "      <td>14315</td>\n",
       "    </tr>\n",
       "    <tr>\n",
       "      <th>5</th>\n",
       "      <td>jun</td>\n",
       "      <td>102578</td>\n",
       "      <td>533252</td>\n",
       "      <td>3209</td>\n",
       "      <td>16918</td>\n",
       "    </tr>\n",
       "    <tr>\n",
       "      <th>6</th>\n",
       "      <td>jul</td>\n",
       "      <td>105941</td>\n",
       "      <td>576349</td>\n",
       "      <td>2588</td>\n",
       "      <td>17498</td>\n",
       "    </tr>\n",
       "    <tr>\n",
       "      <th>7</th>\n",
       "      <td>aug</td>\n",
       "      <td>98794</td>\n",
       "      <td>529684</td>\n",
       "      <td>2018</td>\n",
       "      <td>17438</td>\n",
       "    </tr>\n",
       "    <tr>\n",
       "      <th>8</th>\n",
       "      <td>sep</td>\n",
       "      <td>105011</td>\n",
       "      <td>512940</td>\n",
       "      <td>2878</td>\n",
       "      <td>16190</td>\n",
       "    </tr>\n",
       "    <tr>\n",
       "      <th>9</th>\n",
       "      <td>oct</td>\n",
       "      <td>92066</td>\n",
       "      <td>422377</td>\n",
       "      <td>2822</td>\n",
       "      <td>12850</td>\n",
       "    </tr>\n",
       "    <tr>\n",
       "      <th>10</th>\n",
       "      <td>nov</td>\n",
       "      <td>66632</td>\n",
       "      <td>222069</td>\n",
       "      <td>1250</td>\n",
       "      <td>9363</td>\n",
       "    </tr>\n",
       "    <tr>\n",
       "      <th>11</th>\n",
       "      <td>dec</td>\n",
       "      <td>43921</td>\n",
       "      <td>138866</td>\n",
       "      <td>359</td>\n",
       "      <td>2560</td>\n",
       "    </tr>\n",
       "  </tbody>\n",
       "</table>\n",
       "</div>"
      ],
      "text/plain": [
       "   month  vehicle_traffic  recreation_visits  backcountry_campers  \\\n",
       "0    jan            28421              88561                   85   \n",
       "1    feb            34654             110569                  148   \n",
       "2    mar            78096             345476                 2871   \n",
       "3    apr            91660             515652                 3008   \n",
       "4    may            99259             509017                 4234   \n",
       "5    jun           102578             533252                 3209   \n",
       "6    jul           105941             576349                 2588   \n",
       "7    aug            98794             529684                 2018   \n",
       "8    sep           105011             512940                 2878   \n",
       "9    oct            92066             422377                 2822   \n",
       "10   nov            66632             222069                 1250   \n",
       "11   dec            43921             138866                  359   \n",
       "\n",
       "    tent_campers  \n",
       "0           1120  \n",
       "1           1794  \n",
       "2          13840  \n",
       "3          14359  \n",
       "4          14315  \n",
       "5          16918  \n",
       "6          17498  \n",
       "7          17438  \n",
       "8          16190  \n",
       "9          12850  \n",
       "10          9363  \n",
       "11          2560  "
      ]
     },
     "execution_count": 23,
     "metadata": {},
     "output_type": "execute_result"
    }
   ],
   "source": [
    "df"
   ]
  },
  {
   "cell_type": "code",
   "execution_count": 77,
   "metadata": {},
   "outputs": [],
   "source": [
    "sns.set(style=\"whitegrid\")"
   ]
  },
  {
   "cell_type": "code",
   "execution_count": 41,
   "metadata": {},
   "outputs": [
    {
     "data": {
      "text/plain": [
       "RangeIndex(start=0, stop=12, step=1)"
      ]
     },
     "execution_count": 41,
     "metadata": {},
     "output_type": "execute_result"
    }
   ],
   "source": [
    "df.index"
   ]
  },
  {
   "cell_type": "code",
   "execution_count": 84,
   "metadata": {},
   "outputs": [
    {
     "data": {
      "image/png": "[encoded data removed]",
      "text/plain": [
       "<Figure size 507.6x360 with 1 Axes>"
      ]
     },
     "metadata": {},
     "output_type": "display_data"
    }
   ],
   "source": [
    "# sns.cubehelix_palette(dark=.3, light=.8, as_cmap=True)\n",
    "sns.relplot(x=\"vehicle_traffic\", y=\"recreation_visits\", hue=\"backcountry_campers\", size=\"backcountry_campers\", data=df);"
   ]
  },
  {
   "cell_type": "markdown",
   "metadata": {},
   "source": [
    "# "
   ]
  }
 ],
 "metadata": {
  "kernelspec": {
   "display_name": "Python 3",
   "language": "python",
   "name": "python3"
  },
  "language_info": {
   "codemirror_mode": {
    "name": "ipython",
    "version": 3
   },
   "file_extension": ".py",
   "mimetype": "text/x-python",
   "name": "python",
   "nbconvert_exporter": "python",
   "pygments_lexer": "ipython3",
   "version": "3.7.1"
  }
 },
 "nbformat": 4,
 "nbformat_minor": 2
}
