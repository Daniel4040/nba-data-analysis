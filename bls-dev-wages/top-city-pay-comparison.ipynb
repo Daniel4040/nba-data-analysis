{
 "cells": [
  {
   "cell_type": "code",
   "execution_count": 1,
   "metadata": {},
   "outputs": [],
   "source": [
    "import pandas as pd\n",
    "import matplotlib.pyplot as plt\n",
    "from pathlib import Path"
   ]
  },
  {
   "cell_type": "code",
   "execution_count": 2,
   "metadata": {
    "scrolled": true
   },
   "outputs": [
    {
     "data": {
      "text/html": [
       "<div>\n",
       "<style scoped>\n",
       "    .dataframe tbody tr th:only-of-type {\n",
       "        vertical-align: middle;\n",
       "    }\n",
       "\n",
       "    .dataframe tbody tr th {\n",
       "        vertical-align: top;\n",
       "    }\n",
       "\n",
       "    .dataframe thead th {\n",
       "        text-align: right;\n",
       "    }\n",
       "</style>\n",
       "<table border=\"1\" class=\"dataframe\">\n",
       "  <thead>\n",
       "    <tr style=\"text-align: right;\">\n",
       "      <th></th>\n",
       "      <th>Area Name</th>\n",
       "      <th>Employment(1)</th>\n",
       "      <th>Annual mean wage(2)</th>\n",
       "      <th>Annual median wage(2)</th>\n",
       "    </tr>\n",
       "  </thead>\n",
       "  <tbody>\n",
       "    <tr>\n",
       "      <th>0</th>\n",
       "      <td>San Francisco</td>\n",
       "      <td>40910</td>\n",
       "      <td>141630</td>\n",
       "      <td>133390</td>\n",
       "    </tr>\n",
       "    <tr>\n",
       "      <th>1</th>\n",
       "      <td>Seattle</td>\n",
       "      <td>47920</td>\n",
       "      <td>133810</td>\n",
       "      <td>129820</td>\n",
       "    </tr>\n",
       "    <tr>\n",
       "      <th>2</th>\n",
       "      <td>Anaheim</td>\n",
       "      <td>10070</td>\n",
       "      <td>121120</td>\n",
       "      <td>117090</td>\n",
       "    </tr>\n",
       "    <tr>\n",
       "      <th>3</th>\n",
       "      <td>New York</td>\n",
       "      <td>57910</td>\n",
       "      <td>117620</td>\n",
       "      <td>111690</td>\n",
       "    </tr>\n",
       "    <tr>\n",
       "      <th>4</th>\n",
       "      <td>Dallas</td>\n",
       "      <td>30200</td>\n",
       "      <td>109240</td>\n",
       "      <td>110090</td>\n",
       "    </tr>\n",
       "    <tr>\n",
       "      <th>5</th>\n",
       "      <td>Austin</td>\n",
       "      <td>13680</td>\n",
       "      <td>105430</td>\n",
       "      <td>107330</td>\n",
       "    </tr>\n",
       "    <tr>\n",
       "      <th>6</th>\n",
       "      <td>San Diego</td>\n",
       "      <td>10730</td>\n",
       "      <td>104770</td>\n",
       "      <td>106440</td>\n",
       "    </tr>\n",
       "    <tr>\n",
       "      <th>7</th>\n",
       "      <td>Denver</td>\n",
       "      <td>17030</td>\n",
       "      <td>103370</td>\n",
       "      <td>102160</td>\n",
       "    </tr>\n",
       "    <tr>\n",
       "      <th>8</th>\n",
       "      <td>Sacramento</td>\n",
       "      <td>4150</td>\n",
       "      <td>102690</td>\n",
       "      <td>97920</td>\n",
       "    </tr>\n",
       "    <tr>\n",
       "      <th>9</th>\n",
       "      <td>Raleigh</td>\n",
       "      <td>8520</td>\n",
       "      <td>100960</td>\n",
       "      <td>98510</td>\n",
       "    </tr>\n",
       "    <tr>\n",
       "      <th>10</th>\n",
       "      <td>Chicago</td>\n",
       "      <td>20880</td>\n",
       "      <td>96660</td>\n",
       "      <td>93270</td>\n",
       "    </tr>\n",
       "    <tr>\n",
       "      <th>11</th>\n",
       "      <td>Charleston</td>\n",
       "      <td>1430</td>\n",
       "      <td>95800</td>\n",
       "      <td>94800</td>\n",
       "    </tr>\n",
       "    <tr>\n",
       "      <th>12</th>\n",
       "      <td>Portland</td>\n",
       "      <td>1020</td>\n",
       "      <td>90860</td>\n",
       "      <td>88940</td>\n",
       "    </tr>\n",
       "    <tr>\n",
       "      <th>13</th>\n",
       "      <td>Lansing</td>\n",
       "      <td>2350</td>\n",
       "      <td>76860</td>\n",
       "      <td>77170</td>\n",
       "    </tr>\n",
       "  </tbody>\n",
       "</table>\n",
       "</div>"
      ],
      "text/plain": [
       "        Area Name  Employment(1)  Annual mean wage(2)  Annual median wage(2)\n",
       "0   San Francisco          40910               141630                 133390\n",
       "1         Seattle          47920               133810                 129820\n",
       "2         Anaheim          10070               121120                 117090\n",
       "3        New York          57910               117620                 111690\n",
       "4          Dallas          30200               109240                 110090\n",
       "5          Austin          13680               105430                 107330\n",
       "6       San Diego          10730               104770                 106440\n",
       "7          Denver          17030               103370                 102160\n",
       "8      Sacramento           4150               102690                  97920\n",
       "9         Raleigh           8520               100960                  98510\n",
       "10        Chicago          20880                96660                  93270\n",
       "11     Charleston           1430                95800                  94800\n",
       "12       Portland           1020                90860                  88940\n",
       "13        Lansing           2350                76860                  77170"
      ]
     },
     "execution_count": 2,
     "metadata": {},
     "output_type": "execute_result"
    }
   ],
   "source": [
    "data_folder = Path(\"C:/Users/danie/Documents/py-data-analysis/bls-dev-wages\")\n",
    "file_to_open = data_folder / \"top-city-pay-comparison.csv\"\n",
    "df = pd.read_csv(file_to_open)\n",
    "df"
   ]
  },
  {
   "cell_type": "code",
   "execution_count": 8,
   "metadata": {},
   "outputs": [
    {
     "data": {
      "text/html": [
       "<div>\n",
       "<style scoped>\n",
       "    .dataframe tbody tr th:only-of-type {\n",
       "        vertical-align: middle;\n",
       "    }\n",
       "\n",
       "    .dataframe tbody tr th {\n",
       "        vertical-align: top;\n",
       "    }\n",
       "\n",
       "    .dataframe thead th {\n",
       "        text-align: right;\n",
       "    }\n",
       "</style>\n",
       "<table border=\"1\" class=\"dataframe\">\n",
       "  <thead>\n",
       "    <tr style=\"text-align: right;\">\n",
       "      <th></th>\n",
       "      <th>Area Name</th>\n",
       "      <th>Annual mean wage(2)</th>\n",
       "    </tr>\n",
       "  </thead>\n",
       "  <tbody>\n",
       "    <tr>\n",
       "      <th>5</th>\n",
       "      <td>Austin</td>\n",
       "      <td>105430</td>\n",
       "    </tr>\n",
       "    <tr>\n",
       "      <th>7</th>\n",
       "      <td>Denver</td>\n",
       "      <td>103370</td>\n",
       "    </tr>\n",
       "  </tbody>\n",
       "</table>\n",
       "</div>"
      ],
      "text/plain": [
       "  Area Name  Annual mean wage(2)\n",
       "5    Austin               105430\n",
       "7    Denver               103370"
      ]
     },
     "execution_count": 8,
     "metadata": {},
     "output_type": "execute_result"
    }
   ],
   "source": [
    "df.loc[[5, 7], [\"Area Name\", \"Annual mean wage(2)\"]]"
   ]
  },
  {
   "cell_type": "code",
   "execution_count": 12,
   "metadata": {},
   "outputs": [
    {
     "data": {
      "text/plain": [
       "0    40910\n",
       "1    47920\n",
       "2    10070\n",
       "3    57910\n",
       "4    30200\n",
       "Name: Employment(1), dtype: int64"
      ]
     },
     "execution_count": 12,
     "metadata": {},
     "output_type": "execute_result"
    }
   ],
   "source": [
    "df[df[\"Annual mean wage(2)\"]>106000][\"Employment(1)\"]"
   ]
  },
  {
   "cell_type": "code",
   "execution_count": 3,
   "metadata": {},
   "outputs": [
    {
     "data": {
      "text/plain": [
       "pandas.core.frame.DataFrame"
      ]
     },
     "execution_count": 3,
     "metadata": {},
     "output_type": "execute_result"
    }
   ],
   "source": [
    "type(df)"
   ]
  },
  {
   "cell_type": "code",
   "execution_count": 4,
   "metadata": {},
   "outputs": [
    {
     "data": {
      "text/plain": [
       "Area Name                object\n",
       "Employment(1)             int64\n",
       "Annual mean wage(2)       int64\n",
       "Annual median wage(2)     int64\n",
       "dtype: object"
      ]
     },
     "execution_count": 4,
     "metadata": {},
     "output_type": "execute_result"
    }
   ],
   "source": [
    "df.dtypes"
   ]
  },
  {
   "cell_type": "code",
   "execution_count": 5,
   "metadata": {},
   "outputs": [
    {
     "data": {
      "image/png": "[encoded data removed]",
      "text/plain": [
       "<Figure size 1152x864 with 1 Axes>"
      ]
     },
     "metadata": {
      "needs_background": "light"
     },
     "output_type": "display_data"
    }
   ],
   "source": [
    "ax = df.plot(kind=\"scatter\", x=\"Annual mean wage(2)\", y=\"Employment(1)\", color=\"red\", figsize=(16,12))\n",
    "plt.xlabel(\"Mean Salary (USD)\")\n",
    "plt.ylabel(\"Number Of Developers\")\n",
    "plt.title(\"Software Developers - City Workforce Size vs. Average Salary\")\n",
    "ax.yaxis.grid(linestyle=\"--\")\n",
    "ax.xaxis.grid(linestyle='--')\n",
    "\n",
    "city = df[\"Area Name\"]\n",
    "pay = df[\"Annual mean wage(2)\"]\n",
    "employment = df[\"Employment(1)\"]\n",
    "\n",
    "for i, txt in enumerate(city):\n",
    "    ax.annotate(txt, (pay[i], employment[i]), xycoords='data', xytext=(pay[i] + 1, employment[i] + 1))\n",
    "\n",
    "    \n",
    "plt.show()"
   ]
  },
  {
   "cell_type": "code",
   "execution_count": null,
   "metadata": {},
   "outputs": [],
   "source": []
  },
  {
   "cell_type": "code",
   "execution_count": null,
   "metadata": {},
   "outputs": [],
   "source": []
  }
 ],
 "metadata": {
  "kernelspec": {
   "display_name": "Python 3",
   "language": "python",
   "name": "python3"
  },
  "language_info": {
   "codemirror_mode": {
    "name": "ipython",
    "version": 3
   },
   "file_extension": ".py",
   "mimetype": "text/x-python",
   "name": "python",
   "nbconvert_exporter": "python",
   "pygments_lexer": "ipython3",
   "version": "3.7.1"
  }
 },
 "nbformat": 4,
 "nbformat_minor": 2
}
